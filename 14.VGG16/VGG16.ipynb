{
  "nbformat": 4,
  "nbformat_minor": 0,
  "metadata": {
    "colab": {
      "name": "VGG16.ipynb",
      "provenance": [],
      "collapsed_sections": []
    },
    "kernelspec": {
      "name": "python3",
      "display_name": "Python 3"
    },
    "language_info": {
      "name": "python"
    },
    "accelerator": "GPU"
  },
  "cells": [
    {
      "cell_type": "markdown",
      "metadata": {
        "id": "zWaBmtzepcDl"
      },
      "source": [
        "# VGG 실습\n",
        "Cifar-10 Dataset으로 데이터 분류 실습  \n",
        "Cifar-10의 10은 클래스가 10개여서 10임  \n",
        "+) Cifat-100은 클래스가 100개  \n",
        "데이터는 32x32x3 사이즈"
      ]
    },
    {
      "cell_type": "code",
      "metadata": {
        "colab": {
          "base_uri": "https://localhost:8080/"
        },
        "id": "jmktBlVAoRKC",
        "outputId": "f4ee8779-87a9-487f-8909-36b5888ecf1f"
      },
      "source": [
        "import tensorflow as tf\n",
        "print(tf.__version__)"
      ],
      "execution_count": 1,
      "outputs": [
        {
          "output_type": "stream",
          "text": [
            "2.5.0\n"
          ],
          "name": "stdout"
        }
      ]
    },
    {
      "cell_type": "markdown",
      "metadata": {
        "id": "DddqjpLSplUT"
      },
      "source": [
        "## 데이터 셋 로드"
      ]
    },
    {
      "cell_type": "code",
      "metadata": {
        "colab": {
          "base_uri": "https://localhost:8080/"
        },
        "id": "qhIdIq7ao4FL",
        "outputId": "59470f8e-af9f-41cc-9b50-b21caabf796a"
      },
      "source": [
        "(x_train, y_train), (x_test, y_test) = tf.keras.datasets.cifar10.load_data()\n",
        "\n",
        "print('train data')\n",
        "print(x_train.shape)\n",
        "print(y_train.shape)\n",
        "\n",
        "print('test data')\n",
        "print(x_test.shape)\n",
        "print(y_test.shape)"
      ],
      "execution_count": 2,
      "outputs": [
        {
          "output_type": "stream",
          "text": [
            "train data\n",
            "(50000, 32, 32, 3)\n",
            "(50000, 1)\n",
            "test data\n",
            "(10000, 32, 32, 3)\n",
            "(10000, 1)\n"
          ],
          "name": "stdout"
        }
      ]
    },
    {
      "cell_type": "code",
      "metadata": {
        "colab": {
          "base_uri": "https://localhost:8080/"
        },
        "id": "vSvZPRTTpd6k",
        "outputId": "5fc1c1b8-6796-477d-f000-6921702bca46"
      },
      "source": [
        "print(y_test[:10,:])"
      ],
      "execution_count": 3,
      "outputs": [
        {
          "output_type": "stream",
          "text": [
            "[[3]\n",
            " [8]\n",
            " [8]\n",
            " [0]\n",
            " [6]\n",
            " [6]\n",
            " [1]\n",
            " [6]\n",
            " [3]\n",
            " [1]]\n"
          ],
          "name": "stdout"
        }
      ]
    },
    {
      "cell_type": "markdown",
      "metadata": {
        "id": "HkTXKkMHqFZ1"
      },
      "source": [
        "## VGG16 모델 만들기\n",
        "vgg16 하고 vgg19의 차이는 레이어의 수 차이임  \n",
        "conv layer가 3개 더있는거"
      ]
    },
    {
      "cell_type": "code",
      "metadata": {
        "id": "ozbQO_h9pioj"
      },
      "source": [
        "def vgg16(input_shape = (224,224,3)):\n",
        "  model = tf.keras.models.Sequential()\n",
        "\n",
        "  model.add(tf.keras.layers.Conv2D(input_shape = input_shape, filters = 64, kernel_size= (3,3), strides= (1,1), activation= 'relu', padding = 'same'))\n",
        "  model.add(tf.keras.layers.Conv2D(filters= 64, kernel_size= (3,3), strides= (1,1), activation= 'relu', padding= 'same'))\n",
        "  model.add(tf.keras.layers.MaxPooling2D(pool_size= (2,2)))\n",
        "\n",
        "  model.add(tf.keras.layers.Conv2D(filters= 128, kernel_size= (3,3), strides= (1,1), activation= 'relu', padding= 'same'))\n",
        "  model.add(tf.keras.layers.Conv2D(filters= 128, kernel_size= (3,3), strides= (1,1), activation= 'relu', padding= 'same'))\n",
        "  model.add(tf.keras.layers.MaxPooling2D(pool_size= (2,2)))\n",
        "\n",
        "  model.add(tf.keras.layers.Conv2D(filters= 256, kernel_size= (3,3), strides= (1,1), activation= 'relu', padding= 'same'))\n",
        "  model.add(tf.keras.layers.Conv2D(filters= 256, kernel_size= (3,3), strides= (1,1), activation= 'relu', padding= 'same'))\n",
        "  model.add(tf.keras.layers.Conv2D(filters= 256, kernel_size= (3,3), strides= (1,1), activation= 'relu', padding= 'same'))\n",
        "  model.add(tf.keras.layers.MaxPooling2D(pool_size= (2,2)))\n",
        "\n",
        "  model.add(tf.keras.layers.Conv2D(filters= 512, kernel_size= (3,3), strides= (1,1), activation= 'relu', padding= 'same'))\n",
        "  model.add(tf.keras.layers.Conv2D(filters= 512, kernel_size= (3,3), strides= (1,1), activation= 'relu', padding= 'same'))\n",
        "  model.add(tf.keras.layers.Conv2D(filters= 512, kernel_size= (3,3), strides= (1,1), activation= 'relu', padding= 'same'))\n",
        "  model.add(tf.keras.layers.MaxPooling2D(pool_size= (2,2)))\n",
        "\n",
        "  model.add(tf.keras.layers.Conv2D(filters= 512, kernel_size= (3,3), strides= (1,1), activation= 'relu', padding= 'same'))\n",
        "  model.add(tf.keras.layers.Conv2D(filters= 512, kernel_size= (3,3), strides= (1,1), activation= 'relu', padding= 'same'))\n",
        "  model.add(tf.keras.layers.Conv2D(filters= 512, kernel_size= (3,3), strides= (1,1), activation= 'relu', padding= 'same'))\n",
        "  model.add(tf.keras.layers.MaxPooling2D(pool_size= (2,2)))  \n",
        "\n",
        "# fully connected\n",
        "  model.add(tf.keras.layers.Flatten())\n",
        "  model.add(tf.keras.layers.Dense(4096, activation='relu'))\n",
        "  model.add(tf.keras.layers.Dense(4096, activation='relu'))\n",
        "  model.add(tf.keras.layers.Dense(10, activation='softmax'))  # 원래vgg모델은 output이 1000이지만 cifar-10은 10개 클래스임으로 10으로 변경\n",
        "\n",
        "  return model"
      ],
      "execution_count": 4,
      "outputs": []
    },
    {
      "cell_type": "code",
      "metadata": {
        "colab": {
          "base_uri": "https://localhost:8080/"
        },
        "id": "hwZkDtVLsmKz",
        "outputId": "58088cb4-1e22-4b84-8563-f6700e28f416"
      },
      "source": [
        "vgg_cifar10 = vgg16(input_shape = (32,32,3))\n",
        "\n",
        "opt = tf.keras.optimizers.Adam(learning_rate=0.0001)\n",
        "vgg_cifar10.compile(optimizer=opt, loss='categorical_crossentropy', metrics=['acc']) # 최적화 기법 : 아담, 로스 : 카테고리 크로스엔트로피,  정확도\n",
        "\n",
        "vgg_cifar10.summary()  # 모델 요약, 정리 및 확인, 위의 VGG16 모델과 같음 (+ flatten은 풀리커넥트를 위해서 펴주는거)"
      ],
      "execution_count": 5,
      "outputs": [
        {
          "output_type": "stream",
          "text": [
            "Model: \"sequential\"\n",
            "_________________________________________________________________\n",
            "Layer (type)                 Output Shape              Param #   \n",
            "=================================================================\n",
            "conv2d (Conv2D)              (None, 32, 32, 64)        1792      \n",
            "_________________________________________________________________\n",
            "conv2d_1 (Conv2D)            (None, 32, 32, 64)        36928     \n",
            "_________________________________________________________________\n",
            "max_pooling2d (MaxPooling2D) (None, 16, 16, 64)        0         \n",
            "_________________________________________________________________\n",
            "conv2d_2 (Conv2D)            (None, 16, 16, 128)       73856     \n",
            "_________________________________________________________________\n",
            "conv2d_3 (Conv2D)            (None, 16, 16, 128)       147584    \n",
            "_________________________________________________________________\n",
            "max_pooling2d_1 (MaxPooling2 (None, 8, 8, 128)         0         \n",
            "_________________________________________________________________\n",
            "conv2d_4 (Conv2D)            (None, 8, 8, 256)         295168    \n",
            "_________________________________________________________________\n",
            "conv2d_5 (Conv2D)            (None, 8, 8, 256)         590080    \n",
            "_________________________________________________________________\n",
            "conv2d_6 (Conv2D)            (None, 8, 8, 256)         590080    \n",
            "_________________________________________________________________\n",
            "max_pooling2d_2 (MaxPooling2 (None, 4, 4, 256)         0         \n",
            "_________________________________________________________________\n",
            "conv2d_7 (Conv2D)            (None, 4, 4, 512)         1180160   \n",
            "_________________________________________________________________\n",
            "conv2d_8 (Conv2D)            (None, 4, 4, 512)         2359808   \n",
            "_________________________________________________________________\n",
            "conv2d_9 (Conv2D)            (None, 4, 4, 512)         2359808   \n",
            "_________________________________________________________________\n",
            "max_pooling2d_3 (MaxPooling2 (None, 2, 2, 512)         0         \n",
            "_________________________________________________________________\n",
            "conv2d_10 (Conv2D)           (None, 2, 2, 512)         2359808   \n",
            "_________________________________________________________________\n",
            "conv2d_11 (Conv2D)           (None, 2, 2, 512)         2359808   \n",
            "_________________________________________________________________\n",
            "conv2d_12 (Conv2D)           (None, 2, 2, 512)         2359808   \n",
            "_________________________________________________________________\n",
            "max_pooling2d_4 (MaxPooling2 (None, 1, 1, 512)         0         \n",
            "_________________________________________________________________\n",
            "flatten (Flatten)            (None, 512)               0         \n",
            "_________________________________________________________________\n",
            "dense (Dense)                (None, 4096)              2101248   \n",
            "_________________________________________________________________\n",
            "dense_1 (Dense)              (None, 4096)              16781312  \n",
            "_________________________________________________________________\n",
            "dense_2 (Dense)              (None, 10)                40970     \n",
            "=================================================================\n",
            "Total params: 33,638,218\n",
            "Trainable params: 33,638,218\n",
            "Non-trainable params: 0\n",
            "_________________________________________________________________\n"
          ],
          "name": "stdout"
        }
      ]
    },
    {
      "cell_type": "markdown",
      "metadata": {
        "id": "hi-4ix2rt15T"
      },
      "source": [
        "## 모델 학습하기\n",
        "데이터 나누기\n",
        " - Train  : 모델을 학습하는데 사용\n",
        " - Validation  : 모델의 성능을 평가하는데 사용\n",
        " - Test  : 모델의 성능을 최종적으로 테스트 하는데 사용"
      ]
    },
    {
      "cell_type": "code",
      "metadata": {
        "colab": {
          "base_uri": "https://localhost:8080/"
        },
        "id": "2AVG9aFRtONb",
        "outputId": "4145530f-fd96-41bd-da2e-38125e56ac48"
      },
      "source": [
        "print('train data')\n",
        "print(x_train.shape)\n",
        "print(y_train.shape)\n",
        "\n",
        "print('test data')\n",
        "print(x_test.shape)\n",
        "print(y_test.shape)"
      ],
      "execution_count": 6,
      "outputs": [
        {
          "output_type": "stream",
          "text": [
            "train data\n",
            "(50000, 32, 32, 3)\n",
            "(50000, 1)\n",
            "test data\n",
            "(10000, 32, 32, 3)\n",
            "(10000, 1)\n"
          ],
          "name": "stdout"
        }
      ]
    },
    {
      "cell_type": "markdown",
      "metadata": {
        "id": "C1VYk5I1vF3s"
      },
      "source": [
        "Dataset  \n",
        "> train: 4만  \n",
        "> valid: 1만  \n",
        "> test: 1만  "
      ]
    },
    {
      "cell_type": "code",
      "metadata": {
        "colab": {
          "base_uri": "https://localhost:8080/"
        },
        "id": "UQPQdd-auE_X",
        "outputId": "e4b237db-0066-494d-9e95-95fa2e366f3f"
      },
      "source": [
        "from sklearn.model_selection import train_test_split\n",
        "\n",
        "x_train, x_valid, y_train, y_valid = train_test_split(x_train, y_train, test_size = 0.2, random_state=123)\n",
        "\n",
        "print('train data')\n",
        "print(x_train.shape)\n",
        "print(y_train.shape)\n",
        "\n",
        "print('test data')\n",
        "print(x_test.shape)\n",
        "print(y_test.shape)"
      ],
      "execution_count": 7,
      "outputs": [
        {
          "output_type": "stream",
          "text": [
            "train data\n",
            "(40000, 32, 32, 3)\n",
            "(40000, 1)\n",
            "test data\n",
            "(10000, 32, 32, 3)\n",
            "(10000, 1)\n"
          ],
          "name": "stdout"
        }
      ]
    },
    {
      "cell_type": "code",
      "metadata": {
        "colab": {
          "base_uri": "https://localhost:8080/"
        },
        "id": "wJ-okYqgwb--",
        "outputId": "be770bbe-f50c-4ad4-8803-15621634c7a5"
      },
      "source": [
        "# scalar 형태의 레이블(0-9)을 one-hot encoding 형태로 변환합니다\n",
        "\n",
        "y_train = tf.squeeze(tf.one_hot(y_train, 10),axis=1)\n",
        "y_valid = tf.squeeze(tf.one_hot(y_valid, 10), axis=1)\n",
        "y_test = tf.squeeze(tf.one_hot(y_test, 10), axis=1)\n",
        "\n",
        "print('train data')\n",
        "print(x_train.shape)\n",
        "print(y_train.shape)\n",
        "\n",
        "print('valid data')\n",
        "print(x_valid.shape)\n",
        "print(y_valid.shape)\n",
        "\n",
        "print('test data')\n",
        "print(x_test.shape)\n",
        "print(y_test.shape)"
      ],
      "execution_count": 8,
      "outputs": [
        {
          "output_type": "stream",
          "text": [
            "train data\n",
            "(40000, 32, 32, 3)\n",
            "(40000, 10)\n",
            "valid data\n",
            "(10000, 32, 32, 3)\n",
            "(10000, 10)\n",
            "test data\n",
            "(10000, 32, 32, 3)\n",
            "(10000, 10)\n"
          ],
          "name": "stdout"
        }
      ]
    },
    {
      "cell_type": "code",
      "metadata": {
        "colab": {
          "base_uri": "https://localhost:8080/"
        },
        "id": "yyi_5ZmawwX1",
        "outputId": "f44b0ec0-6d9a-4ebd-b0da-2ef1078d6c63"
      },
      "source": [
        "print(y_test[:10,:])"
      ],
      "execution_count": 9,
      "outputs": [
        {
          "output_type": "stream",
          "text": [
            "tf.Tensor(\n",
            "[[0. 0. 0. 1. 0. 0. 0. 0. 0. 0.]\n",
            " [0. 0. 0. 0. 0. 0. 0. 0. 1. 0.]\n",
            " [0. 0. 0. 0. 0. 0. 0. 0. 1. 0.]\n",
            " [1. 0. 0. 0. 0. 0. 0. 0. 0. 0.]\n",
            " [0. 0. 0. 0. 0. 0. 1. 0. 0. 0.]\n",
            " [0. 0. 0. 0. 0. 0. 1. 0. 0. 0.]\n",
            " [0. 1. 0. 0. 0. 0. 0. 0. 0. 0.]\n",
            " [0. 0. 0. 0. 0. 0. 1. 0. 0. 0.]\n",
            " [0. 0. 0. 1. 0. 0. 0. 0. 0. 0.]\n",
            " [0. 1. 0. 0. 0. 0. 0. 0. 0. 0.]], shape=(10, 10), dtype=float32)\n"
          ],
          "name": "stdout"
        }
      ]
    },
    {
      "cell_type": "code",
      "metadata": {
        "colab": {
          "base_uri": "https://localhost:8080/"
        },
        "id": "NvYLW-2ww1Zp",
        "outputId": "7e625135-6ccb-4b3d-c678-7fe149ccb2bc"
      },
      "source": [
        "history = vgg_cifar10.fit(x_train, y_train, batch_size=32, epochs=11, validation_data=(x_valid, y_valid))"
      ],
      "execution_count": 10,
      "outputs": [
        {
          "output_type": "stream",
          "text": [
            "Epoch 1/11\n",
            "1250/1250 [==============================] - 76s 35ms/step - loss: 1.7631 - acc: 0.3111 - val_loss: 1.5046 - val_acc: 0.4195\n",
            "Epoch 2/11\n",
            "1250/1250 [==============================] - 43s 34ms/step - loss: 1.2867 - acc: 0.5245 - val_loss: 1.1996 - val_acc: 0.5643\n",
            "Epoch 3/11\n",
            "1250/1250 [==============================] - 43s 34ms/step - loss: 0.9962 - acc: 0.6449 - val_loss: 1.0245 - val_acc: 0.6495\n",
            "Epoch 4/11\n",
            "1250/1250 [==============================] - 43s 34ms/step - loss: 0.7897 - acc: 0.7282 - val_loss: 0.8968 - val_acc: 0.6959\n",
            "Epoch 5/11\n",
            "1250/1250 [==============================] - 43s 34ms/step - loss: 0.6183 - acc: 0.7864 - val_loss: 0.8784 - val_acc: 0.7153\n",
            "Epoch 6/11\n",
            "1250/1250 [==============================] - 43s 34ms/step - loss: 0.4742 - acc: 0.8382 - val_loss: 0.8813 - val_acc: 0.7242\n",
            "Epoch 7/11\n",
            "1250/1250 [==============================] - 43s 34ms/step - loss: 0.3646 - acc: 0.8780 - val_loss: 0.9072 - val_acc: 0.7323\n",
            "Epoch 8/11\n",
            "1250/1250 [==============================] - 43s 34ms/step - loss: 0.2750 - acc: 0.9078 - val_loss: 0.9278 - val_acc: 0.7378\n",
            "Epoch 9/11\n",
            "1250/1250 [==============================] - 43s 34ms/step - loss: 0.2201 - acc: 0.9263 - val_loss: 1.1145 - val_acc: 0.7367\n",
            "Epoch 10/11\n",
            "1250/1250 [==============================] - 43s 34ms/step - loss: 0.1813 - acc: 0.9398 - val_loss: 1.0693 - val_acc: 0.7414\n",
            "Epoch 11/11\n",
            "1250/1250 [==============================] - 43s 34ms/step - loss: 0.1545 - acc: 0.9491 - val_loss: 1.1341 - val_acc: 0.7495\n"
          ],
          "name": "stdout"
        }
      ]
    },
    {
      "cell_type": "code",
      "metadata": {
        "id": "vZWt27t9y968",
        "colab": {
          "base_uri": "https://localhost:8080/",
          "height": 573
        },
        "outputId": "675b2bf0-0136-454e-a21f-a6333649de3e"
      },
      "source": [
        "import matplotlib.pyplot as plt\n",
        "\n",
        "plt.plot(history.history['acc'])\n",
        "plt.plot(history.history['val_acc'])\n",
        "plt.title('model accuracy')\n",
        "plt.ylabel('accuracy')\n",
        "plt.xlabel('epoch')\n",
        "plt.legend(['train', 'valid'], loc='upper left')\n",
        "plt.show()\n",
        "\n",
        "plt.plot(history.history['acc'])\n",
        "plt.plot(history.history['val_acc'])\n",
        "plt.title('model loss')\n",
        "plt.xlabel('epoch')\n",
        "plt.legend(['train', 'valid'], loc='upper left')\n",
        "plt.show()"
      ],
      "execution_count": 11,
      "outputs": [
        {
          "output_type": "display_data",
          "data": {
            "image/png": "[encoded data removed]",
            "text/plain": [
              "<Figure size 432x288 with 1 Axes>"
            ]
          },
          "metadata": {
            "tags": [],
            "needs_background": "light"
          }
        },
        {
          "output_type": "display_data",
          "data": {
            "image/png": "[encoded data removed]",
            "text/plain": [
              "<Figure size 432x288 with 1 Axes>"
            ]
          },
          "metadata": {
            "tags": [],
            "needs_background": "light"
          }
        }
      ]
    },
    {
      "cell_type": "code",
      "metadata": {
        "id": "F3sE6c9d_ClY",
        "colab": {
          "base_uri": "https://localhost:8080/"
        },
        "outputId": "e546e67e-0596-4fcf-e634-0f0529c7bec9"
      },
      "source": [
        "import numpy as np\n",
        "\n",
        "print('validation accuracy')\n",
        "print(history.history['val_acc'][-1])\n",
        "print(np.max(history.history['val_acc']))"
      ],
      "execution_count": 12,
      "outputs": [
        {
          "output_type": "stream",
          "text": [
            "validation accuracy\n",
            "0.7494999766349792\n",
            "0.7494999766349792\n"
          ],
          "name": "stdout"
        }
      ]
    },
    {
      "cell_type": "code",
      "metadata": {
        "id": "JTbD37ID-zTV",
        "colab": {
          "base_uri": "https://localhost:8080/"
        },
        "outputId": "18370056-e39b-4045-904b-a775e6cc75e9"
      },
      "source": [
        "results = vgg_cifar10.evaluate(x_test, y_test, batch_size=32)\n",
        "\n",
        "print('test accuracy')\n",
        "print(results[1])"
      ],
      "execution_count": 13,
      "outputs": [
        {
          "output_type": "stream",
          "text": [
            "313/313 [==============================] - 3s 9ms/step - loss: 1.1529 - acc: 0.7482\n",
            "test accuracy\n",
            "0.748199999332428\n"
          ],
          "name": "stdout"
        }
      ]
    }
  ]
}